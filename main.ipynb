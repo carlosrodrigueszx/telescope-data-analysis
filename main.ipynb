{
 "cells": [
  {
   "cell_type": "markdown",
   "id": "6f9208a4",
   "metadata": {},
   "source": [
    "# Tratamento de Dados de Satélite\n",
    "**Equipe:** Daniel, Jones, Kleberson, Murilo"
   ]
  },
  {
   "cell_type": "markdown",
   "id": "6a2a9143",
   "metadata": {},
   "source": [
    "## Apresentação\n",
    "### O Telescópio Kepler e a Descoberta de Exoplanetas\n",
    "\n",
    "#### Introdução\n",
    "- O Telescópio Espacial Kepler, lançado pela NASA em 2009, foi projetado para descobrir exoplanetas, <br>\n",
    "  ou seja, planetas que orbitam estrelas fora do nosso sistema solar.\n",
    "- A missão Kepler teve como objetivo principal explorar a estrutura e a diversidade dos sistemas <br>\n",
    "planetários, contribuindo significativamente para a nossa compreensão do universo.\n",
    "\n",
    "#### Objetivos da Missão Kepler\n",
    "- **Exploração da Diversidade Planetária**: Investigar a variedade de planetas e suas características.\n",
    "- **Identificação de Exoplanetas**: Detectar planetas em zonas habitáveis, onde a vida poderia existir.\n",
    "- **Coleta de Dados**: Fornecer dados extensivos que apoiem futuras missões da NASA e pesquisas científicas.\n",
    "\n",
    "#### O Conjunto de Dados\n",
    "- O conjunto de dados contém informações sobre aproximadamente **3.373 exoplanetas confirmados**.\n",
    "- Inclui dados coletados durante as missões Kepler e K2, abrangendo vários anos de observação.\n",
    "- **Informações Disponíveis**:\n",
    "  - Nome da estrela hospedeira\n",
    "  - Características dos planetas (tamanho, massa, composição)\n",
    "  - Parâmetros orbitais (período orbital, distância da estrela)\n",
    "  - Métodos de descoberta (transito, velocidade radial)\n",
    "  - Propriedades estelares (tipo de estrela, temperatura)\n",
    "\n",
    "#### Importância dos Dados\n",
    "- Os dados do Kepler são cruciais para entender a formação e evolução dos sistemas planetários.\n",
    "- Permitem a análise estatística da distribuição de exoplanetas em diferentes tipos de estrelas e suas características.\n",
    "- A pesquisa com esses dados pode revelar padrões que ajudam a identificar quais sistemas planetários têm maior probabilidade de abrigar vida.\n",
    "\n"
   ]
  },
  {
   "cell_type": "markdown",
   "id": "7e257ed8",
   "metadata": {},
   "source": [
    "## Análise dos Dados"
   ]
  },
  {
   "cell_type": "markdown",
   "id": "1f61e23a",
   "metadata": {},
   "source": [
    "**Bibliotecas necessárias**"
   ]
  },
  {
   "cell_type": "code",
   "execution_count": 33,
   "id": "f1e9b6e5",
   "metadata": {},
   "outputs": [],
   "source": [
    "import math\n",
    "import pandas as pd\n",
    "import numpy as np\n",
    "import matplotlib.pyplot as plt\n",
    "from scipy.stats import norm"
   ]
  },
  {
   "cell_type": "markdown",
   "id": "659a2aa3",
   "metadata": {},
   "source": [
    "**Resultados obtidos**"
   ]
  },
  {
   "cell_type": "code",
   "execution_count": 34,
   "id": "306250c8",
   "metadata": {},
   "outputs": [
    {
     "name": "stdout",
     "output_type": "stream",
     "text": [
      "População que será utilizada nos testes: 380\n"
     ]
    }
   ],
   "source": [
    "# 1) Lê o CSV para um DataFrame\n",
    "df_original = pd.read_csv('data/planets.csv')\n",
    "\n",
    "# Suponha que a coluna que você quer checar se chama 'col_importante'\n",
    "\n",
    "# 2) Máscara para filtrar os dados mantendo só as linhas onde 'col_importante' NÃO é NaN\n",
    "mask = (\n",
    "    (df_original['pl_hostname'] != '') &\n",
    "    (df_original['pl_dens'].notna()) &\n",
    "    (df_original['pl_bmassj'] != '') &\n",
    "    (df_original['pl_radj'].notna()) &\n",
    "    (df_original['pl_orbper'].notna()) &\n",
    "    (df_original['st_teff'].notna())\n",
    ")\n",
    "\n",
    "\"\"\"\n",
    "Alternativa usando dropna para as colunas numéricas e filtragem específica para as strings:\n",
    "\n",
    "python\n",
    "\n",
    "Copiar código\n",
    "# 1) remove linhas com NaN nas colunas numéricas\n",
    "df2 = df.dropna(subset=['pl_dens','pl_radj','pl_orbper','st_teff'])\n",
    "\n",
    "# 2) filtra as colunas de string para não-vazias\n",
    "mask_str = (df2['pl_hostname'].str.strip() != '') & (df2['pl_bmassj'].str.strip() != '')\n",
    "df_filtrado = df2[mask_str]\n",
    "Assim você garante que só sobram linhas em que todas as colunas que você listou estejam efetivamente preenchidas.\n",
    "\"\"\"\n",
    "\n",
    "df_filtrado = df_original[mask]\n",
    "\n",
    "# Alternativamente, você também pode \"dropar\" as linhas faltantes diretamente:\n",
    "# df.dropna(subset=['col_importante'], inplace=True)\n",
    "\n",
    "# 3) A partir daqui use df_filtrado para suas análises\n",
    "# print(df_filtrado.head(5))\n",
    "print(f\"População que será utilizada nos testes: {len(df_filtrado)}\")"
   ]
  },
  {
   "cell_type": "markdown",
   "id": "a07de5e5",
   "metadata": {},
   "source": [
    "### Proporções"
   ]
  },
  {
   "cell_type": "markdown",
   "id": "e93af971",
   "metadata": {},
   "source": [
    "**Planetas cujo raio se assemelha ao da Terra**\n",
    "\n",
    "Como o raio de cada planeta está medido em **raios de júpiter**, faremos uma conversão do raio da Terra:\n",
    "\n",
    "$R_{Terra} = 6378,1~km = \\frac{6378,1}{69911} \\approx 0,09123$ raios de júpiter"
   ]
  },
  {
   "cell_type": "code",
   "execution_count": 35,
   "id": "14546fb7",
   "metadata": {},
   "outputs": [
    {
     "name": "stdout",
     "output_type": "stream",
     "text": [
      "Cerca de 42 planetas possuem o raio semelhante ao da Terra!\n",
      "Proporção dos planetas encontrados: 0.1105263\n",
      "Média do raio dos planetas: 0.1258810\n",
      "Variância (amost.): 0.0013750\n",
      "Desvio-padrão (amost.): 0.0370808\n"
     ]
    },
    {
     "data": {
      "image/png": "[encoded data removed]",
      "text/plain": [
       "<Figure size 800x500 with 1 Axes>"
      ]
     },
     "metadata": {},
     "output_type": "display_data"
    },
    {
     "name": "stdout",
     "output_type": "stream",
     "text": [
      "Proporção (planetas menores que a Terra): 2.11%\n",
      "Proporção (planetas maiores que a Terra): 97.89%\n",
      "\n",
      "Proporção com raio médio de todos os planetas: 0.13335\n"
     ]
    }
   ],
   "source": [
    "# Parâmetros\n",
    "coluna = \"pl_radj\"\n",
    "x      = 0.09123     # valor alvo (float)\n",
    "tol    = 0.1        # tolerância, ex.: ±0.1\n",
    "\n",
    "mask_r = (df_filtrado[coluna] - x).abs() <= tol\n",
    "df_r = df_filtrado[mask_r]\n",
    "\n",
    "# Média\n",
    "media = df_r[coluna].mean()\n",
    "\n",
    "# Variância amostral\n",
    "variancia_amostral = df_r[coluna].var(ddof=1)\n",
    "\n",
    "# Desvio padrão\n",
    "desvio_amostral = df_r[coluna].std(ddof=1)\n",
    "\n",
    "print(f\"Cerca de {len(df_r[coluna])} planetas possuem o raio semelhante ao da Terra!\")\n",
    "# Mostra quantos, dos planetas encontrados, possuem raio semelhante ao da Terra\n",
    "print(f\"Proporção dos planetas encontrados: {len(df_r)/len(df_filtrado) :.7f}\")\n",
    "print(f\"Média do raio dos planetas: {media:.7f}\")\n",
    "print(f\"Variância (amost.): {variancia_amostral:.7f}\")\n",
    "print(f\"Desvio-padrão (amost.): {desvio_amostral:.7f}\")\n",
    "\n",
    "# --- plotando histograma ---\n",
    "plt.figure(figsize=(8, 5))\n",
    "\n",
    "df_r[coluna].plot.hist(bins=20, color=\"skyblue\", edgecolor=\"black\")\n",
    "plt.title(\"Histograma dos Raios\")\n",
    "plt.xlabel(\"Raio\")\n",
    "plt.ylabel(\"Frequência\")\n",
    "plt.grid(alpha=0.7)\n",
    "plt.show()\n",
    "\n",
    "# df_fitrado: dados na tabela que possuem um valor de raio\n",
    "menores = (df_filtrado[coluna] < x).mean() * 100\n",
    "maiores = (df_filtrado[coluna] > x).mean() * 100\n",
    "print(f\"Proporção (planetas menores que a Terra): {menores:.2f}%\")\n",
    "print(f\"Proporção (planetas maiores que a Terra): {maiores:.2f}%\\n\")\n",
    "print(f\"Proporção com raio médio de todos os planetas: {media/df_filtrado[coluna].mean():.5f}\")"
   ]
  },
  {
   "cell_type": "markdown",
   "id": "b0741343",
   "metadata": {},
   "source": [
    "Calculando IC de 95% para a média dos raio:\n",
    "\n",
    "$n = 380, \\alpha = 0,05, \\hat{p} \\approxeq 0,13335$\n",
    "\n",
    "$IC: 0,13335 \\pm z_{0,025} \\cdot \\sqrt{\\frac{0,13335 \\cdot (1-0,13335)}{380}} $"
   ]
  },
  {
   "cell_type": "code",
   "execution_count": 36,
   "id": "c6ff2c9d",
   "metadata": {},
   "outputs": [
    {
     "name": "stdout",
     "output_type": "stream",
     "text": [
      "IC 95% (Normal): [0.0992, 0.1675]\n"
     ]
    }
   ],
   "source": [
    "# Média dos raios semelhantes à terra / Média dos raios de todos os planetas\n",
    "p_hat = media/df_filtrado[coluna].mean()\n",
    "alpha = 0.05\n",
    "z = norm.ppf(1 - alpha/2)\n",
    "\n",
    "# Margem de erro\n",
    "se = math.sqrt(p_hat * (1 - p_hat) / len(df_filtrado))\n",
    "me = z * se\n",
    "\n",
    "ic_lower = p_hat - me\n",
    "ic_upper = p_hat + me\n",
    "\n",
    "print(f\"IC 95% (Normal): [{ic_lower:.4f}, {ic_upper:.4f}]\")"
   ]
  },
  {
   "cell_type": "markdown",
   "id": "426228db",
   "metadata": {},
   "source": [
    "Estamos 95% confiantes de que a proporção populacional verdadeira está no intervalo $[0,0992;~0,1675]$."
   ]
  },
  {
   "cell_type": "markdown",
   "id": "3df1d479",
   "metadata": {},
   "source": [
    "**Planetas cujo a massa se assemelha ao da  Terra**\n",
    "\n",
    "Como o massa de cada planeta também está medido em **raios de júpiter**, faremos uma conversão da massa da Terra:\n",
    "\n",
    "$M_{Terra} = 5,9722 \\cdot 10^{24}~kg = \\frac{5,9722 \\cdot 10^{24}}{1,898 \\cdot 10^{27}} \\approx 0,003147$ massas de júpiter"
   ]
  },
  {
   "cell_type": "code",
   "execution_count": 37,
   "id": "bd2d6485",
   "metadata": {},
   "outputs": [
    {
     "name": "stdout",
     "output_type": "stream",
     "text": [
      "Cerca de 32 planetas possuem massa semelhante a da Terra!\n",
      "Proporção dos planetas encontrados: 8.42%\n",
      "Média da massa dos planetas: 0.0075656\n",
      "Variância (amost.): 0.0000204\n",
      "Desvio-padrão (amost.): 0.0045172\n"
     ]
    },
    {
     "data": {
      "image/png": "[encoded data removed]",
      "text/plain": [
       "<Figure size 800x500 with 1 Axes>"
      ]
     },
     "metadata": {},
     "output_type": "display_data"
    },
    {
     "name": "stdout",
     "output_type": "stream",
     "text": [
      "Proporção (planetas menos massivo que a Terra): 25.00%\n",
      "Proporção (planetas mais massivo que a Terra): 75.00%\n",
      "Proporção com raio médio de todos os planetas: 0.00605\n"
     ]
    }
   ],
   "source": [
    "# Parâmetros\n",
    "coluna = \"pl_bmassj\"\n",
    "x      = 0.003147     # valor alvo (float)\n",
    "tol    = 0.01       # tolerância, ex.: ±0.01\n",
    "\n",
    "mask_m = (df_filtrado[coluna] - x).abs() <= tol\n",
    "df_m = df_filtrado[mask_m]\n",
    "\n",
    "# Média\n",
    "media = df_m[coluna].mean()\n",
    "\n",
    "# Variância amostral\n",
    "variancia_amostral = df_m[coluna].var(ddof=1)\n",
    "\n",
    "# Desvio padrão\n",
    "desvio_amostral = df_m[coluna].std(ddof=1)\n",
    " \n",
    "print(f\"Cerca de {len(df_m[coluna])} planetas possuem massa semelhante a da Terra!\")\n",
    "print(f\"Proporção dos planetas encontrados: {(len(df_m)/len(df_filtrado)) * 100 :.2f}%\")\n",
    "print(f\"Média da massa dos planetas: {media:.7f}\")\n",
    "print(f\"Variância (amost.): {variancia_amostral:.7f}\")\n",
    "print(f\"Desvio-padrão (amost.): {desvio_amostral:.7f}\")\n",
    " \n",
    "serie = df_m[coluna]\n",
    " \n",
    "# --- plotando histograma ---\n",
    "plt.figure(figsize=(8, 5))\n",
    " \n",
    "serie.plot.hist(bins=20, color=\"skyblue\", edgecolor=\"black\")\n",
    "plt.title(\"Histograma das Massas\")\n",
    "plt.xlabel(\"Massa\")\n",
    "plt.ylabel(\"Frequência\")\n",
    "plt.grid(alpha=0.7)\n",
    "plt.show()\n",
    "\n",
    "menores = (df_m[coluna] < x).mean() * 100\n",
    "print(f\"Proporção (planetas menos massivo que a Terra): {menores:.2f}%\")\n",
    "print(f\"Proporção (planetas mais massivo que a Terra): {100 - menores:.2f}%\")\n",
    "print(f\"Proporção com raio médio de todos os planetas: {media/df_filtrado[coluna].mean():.5f}\")"
   ]
  },
  {
   "cell_type": "markdown",
   "id": "06de4e04",
   "metadata": {},
   "source": [
    "Calculando IC de 95% para a média das massa:\n",
    "\n",
    "$n = 380, \\alpha = 0,05, \\hat{p} \\approxeq 0,00605$\n",
    "\n",
    "$IC: 0,00605 \\pm z_{0,025} \\cdot \\sqrt{\\frac{0,00605 \\cdot (1-0,00605)}{380}} $"
   ]
  },
  {
   "cell_type": "code",
   "execution_count": 38,
   "id": "b243e46e",
   "metadata": {},
   "outputs": [
    {
     "name": "stdout",
     "output_type": "stream",
     "text": [
      "IC 95% (Normal): [-0.0017, 0.0139]\n"
     ]
    }
   ],
   "source": [
    "# Média das massa semelhantes à terra / Média das massa de todos os planetas\n",
    "p_hat = media/df_filtrado[coluna].mean()\n",
    "alpha = 0.05\n",
    "z = norm.ppf(1 - alpha/2)\n",
    "\n",
    "# Margem de erro\n",
    "se = math.sqrt(p_hat * (1 - p_hat) / len(df_filtrado))\n",
    "me = z * se\n",
    "\n",
    "ic_lower = p_hat - me\n",
    "ic_upper = p_hat + me\n",
    "\n",
    "print(f\"IC 95% (Normal): [{ic_lower:.4f}, {ic_upper:.4f}]\")"
   ]
  },
  {
   "cell_type": "markdown",
   "id": "f6dec199",
   "metadata": {},
   "source": [
    "Com isso, concluímos que a massa populacional dos planetas semelhantes a Terra está no intervalo $[-0,0017;~0,0139]$."
   ]
  },
  {
   "cell_type": "markdown",
   "id": "f5dffe31",
   "metadata": {},
   "source": [
    "## Conclusão\n",
    "- O Telescópio Kepler revolucionou nossa compreensão dos exoplanetas e da diversidade dos sistemas planetários.\n",
    "- O conjunto de dados disponível oferece uma rica fonte de informações para pesquisas futuras e análises estatísticas.\n",
    "- Através do uso de ferramentas como Jupyter Notebooks, podemos explorar e visualizar esses dados, contribuindo para o avanço da astronomia e da astrobiologia."
   ]
  }
 ],
 "metadata": {
  "kernelspec": {
   "display_name": ".venv",
   "language": "python",
   "name": "python3"
  },
  "language_info": {
   "codemirror_mode": {
    "name": "ipython",
    "version": 3
   },
   "file_extension": ".py",
   "mimetype": "text/x-python",
   "name": "python",
   "nbconvert_exporter": "python",
   "pygments_lexer": "ipython3",
   "version": "3.13.3"
  }
 },
 "nbformat": 4,
 "nbformat_minor": 5
}
