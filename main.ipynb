{
 "cells": [
  {
   "cell_type": "markdown",
   "id": "6f9208a4",
   "metadata": {},
   "source": [
    "# Tratamento de Dados de Satélite\n",
    "**Equipe:** Daniel, Jones, Kleberson, Murilo"
   ]
  },
  {
   "cell_type": "markdown",
   "id": "6a2a9143",
   "metadata": {},
   "source": [
    "## Apresentação\n",
    "### O Telescópio Kepler e a Descoberta de Exoplanetas\n",
    "\n",
    "#### Introdução\n",
    "- O Telescópio Espacial Kepler, lançado pela NASA em 2009, foi projetado para descobrir exoplanetas,\n",
    "  ou seja, planetas que orbitam estrelas fora do nosso sistema solar.\n",
    "- A missão Kepler teve como objetivo principal explorar a estrutura e a diversidade dos sistemas\n",
    "planetários, contribuindo significativamente para a nossa compreensão do universo.\n",
    "\n",
    "#### Objetivos da Missão Kepler\n",
    "- **Exploração da Diversidade Planetária**: Investigar a variedade de planetas e suas características.\n",
    "- **Identificação de Exoplanetas**: Detectar planetas em zonas habitáveis, onde a vida poderia existir.\n",
    "- **Coleta de Dados**: Fornecer dados extensivos que apoiem futuras missões da NASA e pesquisas científicas.\n",
    "\n",
    "#### O Conjunto de Dados\n",
    "- O conjunto de dados contém informações sobre aproximadamente **3.373 exoplanetas confirmados**.\n",
    "- Inclui dados coletados durante as missões Kepler e K2, abrangendo vários anos de observação.\n",
    "- **Informações Disponíveis**:\n",
    "  - Nome da estrela hospedeira\n",
    "  - Características dos planetas (tamanho, massa, composição)\n",
    "  - Parâmetros orbitais (período orbital, distância da estrela)\n",
    "  - Métodos de descoberta (transito, velocidade radial)\n",
    "  - Propriedades estelares (tipo de estrela, temperatura)\n",
    "\n",
    "#### Importância dos Dados\n",
    "- Os dados do Kepler são cruciais para entender a formação e evolução dos sistemas planetários.\n",
    "- Permitem a análise estatística da distribuição de exoplanetas em diferentes tipos de estrelas e suas características.\n",
    "- A pesquisa com esses dados pode revelar padrões que ajudam a identificar quais sistemas planetários têm maior probabilidade de abrigar vida.\n",
    "\n"
   ]
  },
  {
   "cell_type": "markdown",
   "id": "7e257ed8",
   "metadata": {},
   "source": [
    "## Análise dos Dados"
   ]
  },
  {
   "cell_type": "markdown",
   "id": "1f61e23a",
   "metadata": {},
   "source": [
    "**Bibliotecas necessárias**"
   ]
  },
  {
   "cell_type": "code",
   "execution_count": 1,
   "id": "f1e9b6e5",
   "metadata": {},
   "outputs": [],
   "source": [
    "import pandas as pd"
   ]
  },
  {
   "cell_type": "markdown",
   "id": "659a2aa3",
   "metadata": {},
   "source": [
    "**Resultados obtidos**"
   ]
  },
  {
   "cell_type": "code",
   "execution_count": 4,
   "id": "306250c8",
   "metadata": {},
   "outputs": [
    {
     "name": "stdout",
     "output_type": "stream",
     "text": [
      "    rowid pl_hostname pl_letter    pl_discmethod  pl_pnum  pl_orbper  \\\n",
      "26     27      55 Cnc         e  Radial Velocity        5   0.736539   \n",
      "46     47   BD+20 594         b          Transit        1  41.685500   \n",
      "60     61     CoRoT-1         b          Transit        1   1.508956   \n",
      "61     62    CoRoT-10         b          Transit        1  13.240600   \n",
      "62     63    CoRoT-11         b          Transit        1   2.994330   \n",
      "63     64    CoRoT-12         b          Transit        1   2.828042   \n",
      "64     65    CoRoT-13         b          Transit        1   4.035190   \n",
      "65     66    CoRoT-14         b          Transit        1   1.512140   \n",
      "66     67    CoRoT-16         b          Transit        1   5.352270   \n",
      "67     68    CoRoT-17         b          Transit        1   3.768100   \n",
      "68     69    CoRoT-18         b          Transit        1   1.900069   \n",
      "69     70    CoRoT-19         b          Transit        1   3.897130   \n",
      "70     71     CoRoT-2         b          Transit        1   1.742994   \n",
      "71     72    CoRoT-20         b          Transit        1   9.242850   \n",
      "72     73    CoRoT-22         b          Transit        1   9.755980   \n",
      "\n",
      "    pl_orbpererr1  pl_orbpererr2  pl_orbperlim  pl_orbsmax  ...  st_masserr1  \\\n",
      "26       0.000007      -0.000007           0.0     0.01544  ...         0.01   \n",
      "46       0.003000      -0.003100           0.0     0.24100  ...         0.03   \n",
      "60       0.000006      -0.000006           0.0         NaN  ...         0.15   \n",
      "61       0.000200      -0.000200           0.0     0.10550  ...         0.05   \n",
      "62       0.000011      -0.000011           0.0     0.04360  ...         0.05   \n",
      "63       0.000013      -0.000013           0.0     0.04016  ...         0.08   \n",
      "64       0.000030      -0.000030           0.0     0.05100  ...         0.02   \n",
      "65       0.000130      -0.000130           0.0     0.02700  ...         0.09   \n",
      "66       0.000200      -0.000200           0.0     0.06180  ...         0.08   \n",
      "67       0.000300      -0.000300           0.0     0.04610  ...         0.10   \n",
      "68       0.000003      -0.000003           0.0     0.02950  ...         0.15   \n",
      "69       0.000020      -0.000020           0.0     0.05180  ...         0.05   \n",
      "70       0.000001      -0.000001           0.0     0.02798  ...         0.08   \n",
      "71       0.000300      -0.000300           0.0     0.09020  ...         0.08   \n",
      "72       0.000110      -0.000110           0.0     0.09200  ...         0.05   \n",
      "\n",
      "    st_masserr2  st_masslim  st_massblend  st_rad  st_raderr1  st_raderr2  \\\n",
      "26        -0.01         0.0           0.0    0.94        0.01       -0.01   \n",
      "46        -0.03         0.0           0.0    0.93        0.06       -0.04   \n",
      "60        -0.15         0.0           0.0    1.11        0.05       -0.05   \n",
      "61        -0.05         0.0           0.0    0.79        0.05       -0.05   \n",
      "62        -0.05         0.0           0.0    1.37        0.03       -0.03   \n",
      "63        -0.07         0.0           0.0    1.12        0.10       -0.09   \n",
      "64        -0.02         0.0           0.0    1.01        0.03       -0.03   \n",
      "65        -0.09         0.0           0.0    1.21        0.08       -0.08   \n",
      "66        -0.08         0.0           0.0    1.19        0.14       -0.13   \n",
      "67        -0.10         0.0           0.0    1.59        0.07       -0.07   \n",
      "68        -0.15         0.0           0.0    1.00        0.13       -0.13   \n",
      "69        -0.05         0.0           0.0    1.65        0.04       -0.04   \n",
      "70        -0.08         0.0           0.0    0.91        0.03       -0.03   \n",
      "71        -0.08         0.0           0.0    1.02        0.05       -0.05   \n",
      "72        -0.05         0.0           0.0    1.14        0.04       -0.09   \n",
      "\n",
      "    st_radlim  st_radblend   rowupdate  \n",
      "26        0.0          0.0  2016-07-07  \n",
      "46        0.0          0.0  2016-07-28  \n",
      "60        0.0          0.0  2014-05-14  \n",
      "61        0.0          0.0  2014-05-14  \n",
      "62        0.0          0.0  2014-05-14  \n",
      "63        0.0          0.0  2014-05-14  \n",
      "64        0.0          0.0  2014-05-14  \n",
      "65        0.0          0.0  2014-05-14  \n",
      "66        0.0          0.0  2014-05-14  \n",
      "67        0.0          0.0  2014-05-14  \n",
      "68        0.0          0.0  2014-05-14  \n",
      "69        0.0          0.0  2014-05-14  \n",
      "70        0.0          0.0  2014-05-14  \n",
      "71        0.0          0.0  2014-05-14  \n",
      "72        0.0          0.0  2014-08-21  \n",
      "\n",
      "[15 rows x 67 columns]\n"
     ]
    }
   ],
   "source": [
    "# 1) Lê o CSV para um DataFrame\n",
    "df = pd.read_csv('data/planets.csv')\n",
    "\n",
    "# Suponha que a coluna que você quer checar se chama 'col_importante'\n",
    "\n",
    "# 2) Máscara para filtrar os dados mantendo só as linhas onde 'col_importante' NÃO é NaN\n",
    "mask = (\n",
    "    (df['pl_hostname'] != '') &\n",
    "    (df['pl_dens'].notna()) &\n",
    "    (df['pl_bmassj'] != '') &\n",
    "    (df['pl_radj'].notna()) &\n",
    "    (df['pl_orbper'].notna()) &\n",
    "    (df['st_teff'].notna())\n",
    ")\n",
    "\n",
    "\"\"\"\n",
    "Alternativa usando dropna para as colunas numéricas e filtragem específica para as strings:\n",
    "\n",
    "python\n",
    "\n",
    "Copiar código\n",
    "# 1) remove linhas com NaN nas colunas numéricas\n",
    "df2 = df.dropna(subset=['pl_dens','pl_radj','pl_orbper','st_teff'])\n",
    "\n",
    "# 2) filtra as colunas de string para não-vazias\n",
    "mask_str = (df2['pl_hostname'].str.strip() != '') & (df2['pl_bmassj'].str.strip() != '')\n",
    "df_filtrado = df2[mask_str]\n",
    "Assim você garante que só sobram linhas em que todas as colunas que você listou estejam efetivamente preenchidas.\n",
    "\"\"\"\n",
    "\n",
    "df_filtrado = df[mask]\n",
    "\n",
    "# Alternativamente, você também pode \"dropar\" as linhas faltantes diretamente:\n",
    "# df.dropna(subset=['col_importante'], inplace=True)\n",
    "\n",
    "# 3) A partir daqui use df_filtrado para suas análises\n",
    "print(df_filtrado.head(15))"
   ]
  },
  {
   "cell_type": "markdown",
   "id": "f5dffe31",
   "metadata": {},
   "source": [
    "## Conclusão\n",
    "- O Telescópio Kepler revolucionou nossa compreensão dos exoplanetas e da diversidade dos sistemas planetários.\n",
    "- O conjunto de dados disponível oferece uma rica fonte de informações para pesquisas futuras e análises estatísticas.\n",
    "- Através do uso de ferramentas como Jupyter Notebooks, podemos explorar e visualizar esses dados, contribuindo para o avanço da astronomia e da astrobiologia."
   ]
  }
 ],
 "metadata": {
  "kernelspec": {
   "display_name": ".venv",
   "language": "python",
   "name": "python3"
  },
  "language_info": {
   "codemirror_mode": {
    "name": "ipython",
    "version": 3
   },
   "file_extension": ".py",
   "mimetype": "text/x-python",
   "name": "python",
   "nbconvert_exporter": "python",
   "pygments_lexer": "ipython3",
   "version": "3.13.3"
  }
 },
 "nbformat": 4,
 "nbformat_minor": 5
}
