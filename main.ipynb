{
 "cells": [
  {
   "cell_type": "markdown",
   "id": "6f9208a4",
   "metadata": {},
   "source": [
    "# Tratamento de Dados de Satélite\n",
    "**Equipe:** Daniel, Jones, Kleberson, Murilo"
   ]
  },
  {
   "cell_type": "markdown",
   "id": "6a2a9143",
   "metadata": {},
   "source": [
    "## Apresentação\n",
    "### O Telescópio Kepler e a Descoberta de Exoplanetas\n",
    "\n",
    "#### Introdução\n",
    "- O Telescópio Espacial Kepler, lançado pela NASA em 2009, foi projetado para descobrir exoplanetas, <br>\n",
    "  ou seja, planetas que orbitam estrelas fora do nosso sistema solar.\n",
    "- A missão Kepler teve como objetivo principal explorar a estrutura e a diversidade dos sistemas <br>\n",
    "planetários, contribuindo significativamente para a nossa compreensão do universo.\n",
    "\n",
    "#### Objetivos da Missão Kepler\n",
    "- **Exploração da Diversidade Planetária**: Investigar a variedade de planetas e suas características.\n",
    "- **Identificação de Exoplanetas**: Detectar planetas em zonas habitáveis, onde a vida poderia existir.\n",
    "- **Coleta de Dados**: Fornecer dados extensivos que apoiem futuras missões da NASA e pesquisas científicas.\n",
    "\n",
    "#### O Conjunto de Dados\n",
    "- O conjunto de dados contém informações sobre aproximadamente **3.373 exoplanetas confirmados**.\n",
    "- Inclui dados coletados durante as missões Kepler e K2, abrangendo vários anos de observação.\n",
    "- **Informações Disponíveis**:\n",
    "  - Nome da estrela hospedeira\n",
    "  - Características dos planetas (tamanho, massa, composição)\n",
    "  - Parâmetros orbitais (período orbital, distância da estrela)\n",
    "  - Métodos de descoberta (transito, velocidade radial)\n",
    "  - Propriedades estelares (tipo de estrela, temperatura)\n",
    "\n",
    "#### Importância dos Dados\n",
    "- Os dados do Kepler são cruciais para entender a formação e evolução dos sistemas planetários.\n",
    "- Permitem a análise estatística da distribuição de exoplanetas em diferentes tipos de estrelas e suas características.\n",
    "- A pesquisa com esses dados pode revelar padrões que ajudam a identificar quais sistemas planetários têm maior probabilidade de abrigar vida.\n",
    "\n"
   ]
  },
  {
   "cell_type": "markdown",
   "id": "7e257ed8",
   "metadata": {},
   "source": [
    "## Análise dos Dados"
   ]
  },
  {
   "cell_type": "markdown",
   "id": "1f61e23a",
   "metadata": {},
   "source": [
    "**Bibliotecas necessárias**"
   ]
  },
  {
   "cell_type": "code",
   "execution_count": 61,
   "id": "f1e9b6e5",
   "metadata": {},
   "outputs": [],
   "source": [
    "import pandas as pd\n",
    "import numpy as np\n",
    "import matplotlib.pyplot as plt\n",
    "import seaborn as sns"
   ]
  },
  {
   "cell_type": "markdown",
   "id": "659a2aa3",
   "metadata": {},
   "source": [
    "**Resultados obtidos**"
   ]
  },
  {
   "cell_type": "code",
   "execution_count": 16,
   "id": "306250c8",
   "metadata": {},
   "outputs": [
    {
     "name": "stdout",
     "output_type": "stream",
     "text": [
      "    rowid pl_hostname pl_letter    pl_discmethod  pl_pnum  pl_orbper  \\\n",
      "26     27      55 Cnc         e  Radial Velocity        5   0.736539   \n",
      "46     47   BD+20 594         b          Transit        1  41.685500   \n",
      "60     61     CoRoT-1         b          Transit        1   1.508956   \n",
      "61     62    CoRoT-10         b          Transit        1  13.240600   \n",
      "62     63    CoRoT-11         b          Transit        1   2.994330   \n",
      "\n",
      "    pl_orbpererr1  pl_orbpererr2  pl_orbperlim  pl_orbsmax  ...  st_masserr1  \\\n",
      "26       0.000007      -0.000007           0.0     0.01544  ...         0.01   \n",
      "46       0.003000      -0.003100           0.0     0.24100  ...         0.03   \n",
      "60       0.000006      -0.000006           0.0         NaN  ...         0.15   \n",
      "61       0.000200      -0.000200           0.0     0.10550  ...         0.05   \n",
      "62       0.000011      -0.000011           0.0     0.04360  ...         0.05   \n",
      "\n",
      "    st_masserr2  st_masslim  st_massblend  st_rad  st_raderr1  st_raderr2  \\\n",
      "26        -0.01         0.0           0.0    0.94        0.01       -0.01   \n",
      "46        -0.03         0.0           0.0    0.93        0.06       -0.04   \n",
      "60        -0.15         0.0           0.0    1.11        0.05       -0.05   \n",
      "61        -0.05         0.0           0.0    0.79        0.05       -0.05   \n",
      "62        -0.05         0.0           0.0    1.37        0.03       -0.03   \n",
      "\n",
      "    st_radlim  st_radblend   rowupdate  \n",
      "26        0.0          0.0  2016-07-07  \n",
      "46        0.0          0.0  2016-07-28  \n",
      "60        0.0          0.0  2014-05-14  \n",
      "61        0.0          0.0  2014-05-14  \n",
      "62        0.0          0.0  2014-05-14  \n",
      "\n",
      "[5 rows x 67 columns]\n"
     ]
    }
   ],
   "source": [
    "# 1) Lê o CSV para um DataFrame\n",
    "df_pop = pd.read_csv('data/planets.csv')\n",
    "\n",
    "# Suponha que a coluna que você quer checar se chama 'col_importante'\n",
    "\n",
    "# 2) Máscara para filtrar os dados mantendo só as linhas onde 'col_importante' NÃO é NaN\n",
    "mask = (\n",
    "    (df_pop['pl_hostname'] != '') &\n",
    "    (df_pop['pl_dens'].notna()) &\n",
    "    (df_pop['pl_bmassj'] != '') &\n",
    "    (df_pop['pl_radj'].notna()) &\n",
    "    (df_pop['pl_orbper'].notna()) &\n",
    "    (df_pop['st_teff'].notna())\n",
    ")\n",
    "\n",
    "\"\"\"\n",
    "Alternativa usando dropna para as colunas numéricas e filtragem específica para as strings:\n",
    "\n",
    "python\n",
    "\n",
    "Copiar código\n",
    "# 1) remove linhas com NaN nas colunas numéricas\n",
    "df2 = df.dropna(subset=['pl_dens','pl_radj','pl_orbper','st_teff'])\n",
    "\n",
    "# 2) filtra as colunas de string para não-vazias\n",
    "mask_str = (df2['pl_hostname'].str.strip() != '') & (df2['pl_bmassj'].str.strip() != '')\n",
    "df_filtrado = df2[mask_str]\n",
    "Assim você garante que só sobram linhas em que todas as colunas que você listou estejam efetivamente preenchidas.\n",
    "\"\"\"\n",
    "\n",
    "df_filtrado = df_pop[mask]\n",
    "\n",
    "# Alternativamente, você também pode \"dropar\" as linhas faltantes diretamente:\n",
    "# df.dropna(subset=['col_importante'], inplace=True)\n",
    "\n",
    "# 3) A partir daqui use df_filtrado para suas análises\n",
    "print(df_filtrado.head(5))"
   ]
  },
  {
   "cell_type": "markdown",
   "id": "a07de5e5",
   "metadata": {},
   "source": [
    "### Proporções"
   ]
  },
  {
   "cell_type": "markdown",
   "id": "e93af971",
   "metadata": {},
   "source": [
    "**Planetas cujo raio se assemelha ao da Terra**\n",
    "\n",
    "Como o raio de cada planeta está medido em **raios de júpiter**, faremos uma conversão do raio da Terra:\n",
    "\n",
    "$R_{Terra} = 6378,1~km = \\frac{6378,1}{69911} \\approx 0,09123$ raios de júpiter"
   ]
  },
  {
   "cell_type": "code",
   "execution_count": 93,
   "id": "14546fb7",
   "metadata": {},
   "outputs": [
    {
     "name": "stdout",
     "output_type": "stream",
     "text": [
      "Cerca de 126 planetas possuem o raio semelhante ao da Terra!\n",
      "Proporção dos planetas encontrados: 33.16%\n",
      "Média do raio dos planetas: 0.0929683\n",
      "Variância (amost.): 0.0000332\n",
      "Desvio-padrão (amost.): 0.0057660\n"
     ]
    },
    {
     "data": {
      "image/png": "[encoded data removed]",
      "text/plain": [
       "<Figure size 800x500 with 1 Axes>"
      ]
     },
     "metadata": {},
     "output_type": "display_data"
    },
    {
     "name": "stdout",
     "output_type": "stream",
     "text": [
      "Proporção (planetas menores que a Terra): 38.89%\n",
      "Proporção (planetas maiores que a Terra): 61.11%\n"
     ]
    }
   ],
   "source": [
    "# Parâmetros\n",
    "coluna = \"pl_radj\"\n",
    "x      = 0.09123     # valor alvo (float)\n",
    "tol    = 0.01        # tolerância, ex.: ±0.01\n",
    "\n",
    "mask_r = (df_pop[coluna] - x).abs() <= tol\n",
    "df_r = df_pop[mask_r]\n",
    "\n",
    "# Média\n",
    "media = df_r[coluna].mean()\n",
    "\n",
    "# Variância amostral\n",
    "variancia_amostral = df_r[coluna].var(ddof=1)\n",
    "\n",
    "# Desvio padrão\n",
    "desvio_amostral = df_r[coluna].std(ddof=1)\n",
    "\n",
    "print(f\"Cerca de {len(df_r[coluna])} planetas possuem o raio semelhante ao da Terra!\")\n",
    "print(f\"Proporção dos planetas encontrados: {(len(df_r)/len(df_filtrado)) * 100 :.2f}%\")\n",
    "print(f\"Média do raio dos planetas: {media:.7f}\")\n",
    "print(f\"Variância (amost.): {variancia_amostral:.7f}\")\n",
    "print(f\"Desvio-padrão (amost.): {desvio_amostral:.7f}\")\n",
    "\n",
    "serie = df_r[coluna]\n",
    "\n",
    "# --- plotando histograma ---\n",
    "plt.figure(figsize=(8, 5))\n",
    "\n",
    "serie.plot.hist(bins=20, color=\"skyblue\", edgecolor=\"black\")\n",
    "plt.title(\"Histograma dos Raios\")\n",
    "plt.xlabel(\"Raio\")\n",
    "plt.ylabel(\"Frequência\")\n",
    "plt.grid(alpha=0.7)\n",
    "plt.show()\n",
    "\n",
    "menores = (df_r[coluna] < x).mean() * 100\n",
    "print(f\"Proporção (planetas menores que a Terra): {menores:.2f}%\")\n",
    "print(f\"Proporção (planetas maiores que a Terra): {100 - menores:.2f}%\")"
   ]
  },
  {
   "cell_type": "markdown",
   "id": "3df1d479",
   "metadata": {},
   "source": [
    "**Planetas cujo a massa se assemelha ao da  Terra**\n",
    "\n",
    "Como o massa de cada planeta também está medido em **raios de júpiter**, faremos uma conversão da massa da Terra:\n",
    "\n",
    "$M_{Terra} = 5,9722 \\cdot 10^{24}~kg = \\frac{5,9722 \\cdot 10^{24}}{1,898 \\cdot 10^{27}} \\approx 0,003147$ massas de júpiter"
   ]
  },
  {
   "cell_type": "code",
   "execution_count": 105,
   "id": "bd2d6485",
   "metadata": {},
   "outputs": [
    {
     "name": "stdout",
     "output_type": "stream",
     "text": [
      "Cerca de 61 planetas possuem o raio semelhante ao da Terra!\n",
      "Proporção dos planetas encontrados: 16.05%\n",
      "Média do raio dos planetas: 0.0079669\n",
      "Variância (amost.): 0.0000173\n",
      "Desvio-padrão (amost.): 0.0041634\n"
     ]
    },
    {
     "data": {
      "image/png": "[encoded data removed]",
      "text/plain": [
       "<Figure size 800x500 with 1 Axes>"
      ]
     },
     "metadata": {},
     "output_type": "display_data"
    },
    {
     "name": "stdout",
     "output_type": "stream",
     "text": [
      "Proporção (planetas menos massivo que a Terra): 19.67%\n",
      "Proporção (planetas mais massivo que a Terra): 80.33%\n"
     ]
    }
   ],
   "source": [
    "# Parâmetros\n",
    "coluna = \"pl_bmassj\"\n",
    "x      = 0.003147     # valor alvo (float)\n",
    "tol    = 0.01       # tolerância, ex.: ±0.01\n",
    "\n",
    "mask_r = (df_pop[coluna] - x).abs() <= tol\n",
    "df_r = df_pop[mask_r]\n",
    "\n",
    "# Média\n",
    "media = df_r[coluna].mean()\n",
    "\n",
    "# Variância amostral\n",
    "variancia_amostral = df_r[coluna].var(ddof=1)\n",
    "\n",
    "# Desvio padrão\n",
    "desvio_amostral = df_r[coluna].std(ddof=1)\n",
    "\n",
    "print(f\"Cerca de {len(df_r[coluna])} planetas possuem o raio semelhante ao da Terra!\")\n",
    "print(f\"Proporção dos planetas encontrados: {(len(df_r)/len(df_filtrado)) * 100 :.2f}%\")\n",
    "print(f\"Média do raio dos planetas: {media:.7f}\")\n",
    "print(f\"Variância (amost.): {variancia_amostral:.7f}\")\n",
    "print(f\"Desvio-padrão (amost.): {desvio_amostral:.7f}\")\n",
    "\n",
    "serie = df_r[coluna]\n",
    "\n",
    "# --- plotando histograma ---\n",
    "plt.figure(figsize=(8, 5))\n",
    "\n",
    "serie.plot.hist(bins=20, color=\"skyblue\", edgecolor=\"black\")\n",
    "plt.title(\"Histograma das Massas\")\n",
    "plt.xlabel(\"Raio\")\n",
    "plt.ylabel(\"Frequência\")\n",
    "plt.grid(alpha=0.7)\n",
    "plt.show()\n",
    "\n",
    "menores = (df_r[coluna] < x).mean() * 100\n",
    "print(f\"Proporção (planetas menos massivo que a Terra): {menores:.2f}%\")\n",
    "print(f\"Proporção (planetas mais massivo que a Terra): {100 - menores:.2f}%\")"
   ]
  },
  {
   "cell_type": "markdown",
   "id": "f5dffe31",
   "metadata": {},
   "source": [
    "## Conclusão\n",
    "- O Telescópio Kepler revolucionou nossa compreensão dos exoplanetas e da diversidade dos sistemas planetários.\n",
    "- O conjunto de dados disponível oferece uma rica fonte de informações para pesquisas futuras e análises estatísticas.\n",
    "- Através do uso de ferramentas como Jupyter Notebooks, podemos explorar e visualizar esses dados, contribuindo para o avanço da astronomia e da astrobiologia."
   ]
  }
 ],
 "metadata": {
  "kernelspec": {
   "display_name": ".venv",
   "language": "python",
   "name": "python3"
  },
  "language_info": {
   "codemirror_mode": {
    "name": "ipython",
    "version": 3
   },
   "file_extension": ".py",
   "mimetype": "text/x-python",
   "name": "python",
   "nbconvert_exporter": "python",
   "pygments_lexer": "ipython3",
   "version": "3.13.3"
  }
 },
 "nbformat": 4,
 "nbformat_minor": 5
}
